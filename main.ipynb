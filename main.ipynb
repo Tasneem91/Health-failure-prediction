{
 "cells": [
  {
   "cell_type": "markdown",
   "id": "742d8162",
   "metadata": {},
   "source": [
    "### Programming Concepts and Practice --- ASSIGNMENT 2"
   ]
  },
  {
   "cell_type": "code",
   "execution_count": 100,
   "id": "126fc345",
   "metadata": {},
   "outputs": [
    {
     "name": "stdout",
     "output_type": "stream",
     "text": [
      "The autoreload extension is already loaded. To reload it, use:\n",
      "  %reload_ext autoreload\n"
     ]
    }
   ],
   "source": [
    "%load_ext autoreload\n",
    "%autoreload 2\n",
    "from EDA import *"
   ]
  },
  {
   "cell_type": "code",
   "execution_count": 101,
   "id": "50331f52",
   "metadata": {},
   "outputs": [],
   "source": [
    "import matplotlib.pyplot as plt"
   ]
  },
  {
   "cell_type": "markdown",
   "id": "6dd656c1",
   "metadata": {},
   "source": [
    "### i). Exploratory Data Analysis"
   ]
  },
  {
   "cell_type": "markdown",
   "id": "967538d5",
   "metadata": {},
   "source": [
    "**Define dataset file name**"
   ]
  },
  {
   "cell_type": "code",
   "execution_count": 102,
   "id": "5dc31c98",
   "metadata": {},
   "outputs": [],
   "source": [
    "file_name = \"heart_failure_clinical_records_dataset.csv\""
   ]
  },
  {
   "cell_type": "markdown",
   "id": "42eaf07b",
   "metadata": {},
   "source": [
    "**Call read_heart_failure_data() function:**\n",
    "\n",
    "which take file_name as a parameter read the data as a numpy 2D array."
   ]
  },
  {
   "cell_type": "code",
   "execution_count": 103,
   "id": "8a8410e8",
   "metadata": {},
   "outputs": [
    {
     "name": "stdout",
     "output_type": "stream",
     "text": [
      "float64\n",
      "[[  75.    0.  582. ...    0.    4.    1.]\n",
      " [  55.    0. 7861. ...    0.    6.    1.]\n",
      " [  65.    0.  146. ...    1.    7.    1.]\n",
      " ...\n",
      " [  45.    0. 2060. ...    0.  278.    0.]\n",
      " [  45.    0. 2413. ...    1.  280.    0.]\n",
      " [  50.    0.  196. ...    1.  285.    0.]]\n"
     ]
    }
   ],
   "source": [
    "heart_failure_data = read_heart_failure_data(file_name)"
   ]
  },
  {
   "cell_type": "code",
   "execution_count": 104,
   "id": "c4f9624f",
   "metadata": {},
   "outputs": [
    {
     "data": {
      "text/plain": [
       "(299, 13)"
      ]
     },
     "execution_count": 104,
     "metadata": {},
     "output_type": "execute_result"
    }
   ],
   "source": [
    "heart_failure_data.shape"
   ]
  },
  {
   "cell_type": "code",
   "execution_count": 105,
   "id": "3087be18",
   "metadata": {},
   "outputs": [
    {
     "name": "stdout",
     "output_type": "stream",
     "text": [
      "False\n"
     ]
    }
   ],
   "source": [
    "missing_values = np.isnan(heart_failure_data).any()\n",
    "print(missing_values)"
   ]
  },
  {
   "cell_type": "markdown",
   "id": "a87707ba",
   "metadata": {},
   "source": [
    "**Check categorical and numerical features**"
   ]
  },
  {
   "cell_type": "code",
   "execution_count": 106,
   "id": "2c8a7adc",
   "metadata": {},
   "outputs": [
    {
     "name": "stdout",
     "output_type": "stream",
     "text": [
      "Column 1 (anaemia) is a categorical column with only 0 or 1 values.\n",
      "Column 3 (diabetes) is a categorical column with only 0 or 1 values.\n",
      "Column 5 (high_blood_pressure) is a categorical column with only 0 or 1 values.\n",
      "Column 9 (sex) is a categorical column with only 0 or 1 values.\n",
      "Column 10 (smoking) is a categorical column with only 0 or 1 values.\n",
      "Column 12 (DEATH_EVENT) is a categorical column with only 0 or 1 values.\n"
     ]
    }
   ],
   "source": [
    "check_categorical_and_numerical_features(file_name)"
   ]
  },
  {
   "cell_type": "markdown",
   "id": "8fe16a36",
   "metadata": {},
   "source": [
    "**Check if there any outlier in the dataset**"
   ]
  },
  {
   "cell_type": "code",
   "execution_count": 107,
   "id": "b608eedb",
   "metadata": {},
   "outputs": [],
   "source": [
    "def check_ouliers(heart_failure_data):\n",
    "    for i in range(heart_failure_data.shape[1]):\n",
    "        column = heart_failure_data[:, i]\n",
    "        lower_bound = np.percentile(column, 1)\n",
    "        upper_bound = np.percentile(column, 99)\n",
    "        outliers = [x for x in column if x < lower_bound or x > upper_bound]\n",
    "        print(f\"Outliers in column {i+1}: {outliers}\")\n"
   ]
  },
  {
   "cell_type": "code",
   "execution_count": 108,
   "id": "975192f1",
   "metadata": {},
   "outputs": [
    {
     "name": "stdout",
     "output_type": "stream",
     "text": [
      "Outliers in column 1: [95.0, 94.0, 95.0]\n",
      "Outliers in column 2: []\n",
      "Outliers in column 3: [7861.0, 23.0, 7702.0, 5882.0, 30.0]\n",
      "Outliers in column 4: []\n",
      "Outliers in column 5: [15.0, 65.0, 14.0, 80.0, 15.0, 70.0]\n",
      "Outliers in column 6: []\n",
      "Outliers in column 7: [47000.0, 621000.0, 850000.0, 25100.0, 51000.0, 742000.0]\n",
      "Outliers in column 8: [9.4, 6.8, 9.0, 0.5]\n",
      "Outliers in column 9: [116.0, 121.0, 146.0, 113.0, 148.0]\n",
      "Outliers in column 10: []\n",
      "Outliers in column 11: []\n",
      "Outliers in column 12: [4.0, 6.0, 278.0, 280.0, 285.0]\n",
      "Outliers in column 13: []\n"
     ]
    }
   ],
   "source": [
    "check_ouliers(heart_failure_data)"
   ]
  },
  {
   "cell_type": "markdown",
   "id": "0fe4cdf9",
   "metadata": {},
   "source": [
    "**We can replace the outliers as follows**"
   ]
  },
  {
   "cell_type": "code",
   "execution_count": 109,
   "id": "c0ad7730",
   "metadata": {},
   "outputs": [],
   "source": [
    "def replace_outliers(heart_failure_data):\n",
    "    # Replace outliers with mean value\n",
    "    for i in range(heart_failure_data.shape[1]):\n",
    "        column = heart_failure_data[:, i]\n",
    "        lower_bound = np.percentile(column, 1)\n",
    "        upper_bound = np.percentile(column, 99)\n",
    "        mean = np.mean(column)\n",
    "        for j in range(len(column)):\n",
    "            if column[j] < lower_bound or column[j] > upper_bound:\n",
    "                column[j] = mean"
   ]
  },
  {
   "cell_type": "code",
   "execution_count": 110,
   "id": "d5acd235",
   "metadata": {},
   "outputs": [],
   "source": [
    "replace_outliers(heart_failure_data)"
   ]
  },
  {
   "cell_type": "markdown",
   "id": "ee51ab13",
   "metadata": {},
   "source": [
    "**This function to find the age location measures**"
   ]
  },
  {
   "cell_type": "code",
   "execution_count": 12,
   "id": "f0d4b67f",
   "metadata": {},
   "outputs": [
    {
     "name": "stdout",
     "output_type": "stream",
     "text": [
      "Discover Age Location and Spread Measures in Heart Failure Clinical Records Dataset\n",
      "\n",
      "Minimum Age =  40\n",
      "Maximum Age =  90\n",
      "Ages Average =  60\n",
      "Age Standard Deviation =  11.375894388369211\n",
      "Age Variance =  129.41097313533012\n",
      "--------------------------------------\n",
      "\n"
     ]
    }
   ],
   "source": [
    "discover_age_location_measures(heart_failure_data)"
   ]
  },
  {
   "cell_type": "markdown",
   "id": "30225633",
   "metadata": {},
   "source": [
    "**This function to get some conclusion info about our dataset**"
   ]
  },
  {
   "cell_type": "code",
   "execution_count": 111,
   "id": "aa1a5181",
   "metadata": {},
   "outputs": [
    {
     "name": "stdout",
     "output_type": "stream",
     "text": [
      "The number of smokers is  96 out of 299\n",
      "Average of the smokers =  0.32 \n",
      "The patients are varies between 194 men, and 105 women\n",
      "The number of smokers men is 92\n"
     ]
    }
   ],
   "source": [
    "discover_patients_info(heart_failure_data)"
   ]
  },
  {
   "cell_type": "markdown",
   "id": "c629f253",
   "metadata": {},
   "source": [
    "**Explore dataset statistical information: mean, median, std, var, skew, kurtosis**"
   ]
  },
  {
   "cell_type": "code",
   "execution_count": 113,
   "id": "7dc07cf6",
   "metadata": {},
   "outputs": [
    {
     "name": "stdout",
     "output_type": "stream",
     "text": [
      "\n",
      " mean, median, std, var, skew, kurtosis for Column 0 (age) are:\n",
      "\n",
      "mean : 60.83\n",
      "median : 60.0\n",
      "std : 11.87\n",
      "var : 141.01\n",
      "min : 40.0\n",
      "max : 95.0\n",
      "skewness : 0.42\n",
      "kurtosis : -0.2\n",
      "\n",
      " mean, median, std, var, skew, kurtosis for Column 2 (creatinine_phosphokinase) are:\n",
      "\n",
      "mean : 581.84\n",
      "median : 250.0\n",
      "std : 968.66\n",
      "var : 938309.88\n",
      "min : 23.0\n",
      "max : 7861.0\n",
      "skewness : 4.44\n",
      "kurtosis : 24.71\n",
      "\n",
      " mean, median, std, var, skew, kurtosis for Column 4 (ejection_fraction) are:\n",
      "\n",
      "mean : 38.08\n",
      "median : 38.0\n",
      "std : 11.82\n",
      "var : 139.6\n",
      "min : 14.0\n",
      "max : 80.0\n",
      "skewness : 0.55\n",
      "kurtosis : 0.02\n",
      "\n",
      " mean, median, std, var, skew, kurtosis for Column 6 (platelets) are:\n",
      "\n",
      "mean : 263358.03\n",
      "median : 262000.0\n",
      "std : 97640.55\n",
      "var : 9533676546.27\n",
      "min : 25100.0\n",
      "max : 850000.0\n",
      "skewness : 1.45\n",
      "kurtosis : 6.09\n",
      "\n",
      " mean, median, std, var, skew, kurtosis for Column 7 (serum_creatinine) are:\n",
      "\n",
      "mean : 1.39\n",
      "median : 1.1\n",
      "std : 1.03\n",
      "var : 1.07\n",
      "min : 0.5\n",
      "max : 9.4\n",
      "skewness : 4.43\n",
      "kurtosis : 25.38\n",
      "\n",
      " mean, median, std, var, skew, kurtosis for Column 8 (serum_sodium) are:\n",
      "\n",
      "mean : 136.63\n",
      "median : 137.0\n",
      "std : 4.41\n",
      "var : 19.4\n",
      "min : 113.0\n",
      "max : 148.0\n",
      "skewness : -1.04\n",
      "kurtosis : 4.03\n",
      "\n",
      " mean, median, std, var, skew, kurtosis for Column 11 (time) are:\n",
      "\n",
      "mean : 130.26\n",
      "median : 115.0\n",
      "std : 77.48\n",
      "var : 6003.82\n",
      "min : 4.0\n",
      "max : 285.0\n",
      "skewness : 0.13\n",
      "kurtosis : -1.21\n"
     ]
    }
   ],
   "source": [
    "explore_continous_var_statistical_info(file_name)"
   ]
  },
  {
   "cell_type": "code",
   "execution_count": 15,
   "id": "38a94ddb",
   "metadata": {},
   "outputs": [
    {
     "data": {
      "image/png": "[encoded data removed]",
      "text/plain": [
       "<Figure size 720x720 with 4 Axes>"
      ]
     },
     "metadata": {
      "needs_background": "light"
     },
     "output_type": "display_data"
    }
   ],
   "source": [
    "fig, axs = plt.subplots(4, 1, figsize=(10, 10))\n",
    "\n",
    "axs[0].hist(heart_failure_data[:, 0], bins=20)\n",
    "axs[0].set_title('Age')\n",
    "axs[1].hist(heart_failure_data[:, 2], bins=20)\n",
    "axs[1].set_title('Creatinine Phosphokinase')\n",
    "axs[2].hist(heart_failure_data[:, 4], bins=20)\n",
    "axs[2].set_title('Ejection Fraction')\n",
    "axs[3].hist(heart_failure_data[:, 7], bins=20)\n",
    "axs[3].set_title('Serum Creatinine')\n",
    "\n",
    "plt.tight_layout()\n",
    "plt.show()\n"
   ]
  },
  {
   "cell_type": "code",
   "execution_count": 114,
   "id": "0de8f451",
   "metadata": {},
   "outputs": [],
   "source": [
    "def frequency_of_death_by_sex(heart_failure_data):\n",
    "    try:\n",
    "        data = heart_failure_data\n",
    "        # Create a dictionary to store the frequencies of the different values in the 'sex' and 'DEATH_EVENT' columns\n",
    "        frequencies = {0: {0: 0, 1: 0}, 1: {0: 0, 1: 0}}\n",
    "\n",
    "        # Count the frequencies of the different values\n",
    "        for row in data:\n",
    "            frequencies[int(row[12])][int(row[9])] += 1\n",
    "        # Create the grouped bar plot\n",
    "        bar_width = 0.35\n",
    "        bar_l = np.arange(len(frequencies))\n",
    "        bar_r = [x + bar_width for x in bar_l]\n",
    "        fig, ax = plt.subplots()\n",
    "        ax.bar(bar_l, frequencies[0].values(), width=bar_width, label='Death Event = 0')\n",
    "        ax.bar(bar_r, frequencies[1].values(), width=bar_width, label='Death Event = 1')\n",
    "        ax.set_xlabel('Sex')\n",
    "        ax.set_ylabel('Frequency')\n",
    "        ax.set_title('Frequency of Death Event by Sex')\n",
    "        ax.set_xticks([r + bar_width / 2 for r in range(len(frequencies))])\n",
    "        ax.set_xticklabels([\"Women\", \"Men\"])\n",
    "        ax.legend()\n",
    "        plt.show()\n",
    "\n",
    "    except Exception as e:\n",
    "        print(f\"An error {e} has been raised\")"
   ]
  },
  {
   "cell_type": "code",
   "execution_count": 115,
   "id": "6be411f1",
   "metadata": {},
   "outputs": [
    {
     "data": {
      "image/png": "[encoded data removed]",
      "text/plain": [
       "<Figure size 432x288 with 1 Axes>"
      ]
     },
     "metadata": {
      "needs_background": "light"
     },
     "output_type": "display_data"
    }
   ],
   "source": [
    "frequency_of_death_by_sex(heart_failure_data)"
   ]
  },
  {
   "cell_type": "code",
   "execution_count": 116,
   "id": "7a27531f",
   "metadata": {},
   "outputs": [],
   "source": [
    "# 6- study distribution of some columns\n",
    "def show_anaemia_diabetes_death_distributions(heart_failure_data):\n",
    "    try:\n",
    "        data = heart_failure_data\n",
    "        # Get the data for the anaemia column\n",
    "        anaemia = data[:, 1]\n",
    "        # Find the unique values and their frequencies\n",
    "        anaemia_values, anaemia_counts = np.unique(anaemia, return_counts=True)\n",
    "        # Plot the pie chart\n",
    "        plt.pie(anaemia_counts, labels=anaemia_values, autopct='%1.1f%%')\n",
    "        plt.title('Anaemia Distribution')\n",
    "        plt.show()\n",
    "        # Get the data for the diabetes column\n",
    "        diabetes = data[:, 3]\n",
    "        # Find the unique values and their frequencies\n",
    "        diabetes_values, diabetes_counts = np.unique(diabetes, return_counts=True)\n",
    "        # Plot the pie chart\n",
    "        plt.pie(diabetes_counts, labels=diabetes_values, autopct='%1.1f%%')\n",
    "        plt.title('Diabetes Distribution')\n",
    "        plt.show()\n",
    "        # Get the data for the DEATH_EVENT column\n",
    "        death_event = data[:, 12]\n",
    "        # Find the unique values and their frequencies\n",
    "        death_event_values, death_event_counts = np.unique(death_event, return_counts=True)\n",
    "        # Plot the pie chart without the 'nan' values\n",
    "        plt.pie(death_event_counts, labels=death_event_values, autopct='%1.1f%%')\n",
    "        plt.title('DEATH_EVENT Distribution')\n",
    "        plt.show()\n",
    "\n",
    "    except Exception as e:\n",
    "        print(f\"An error {e} has been raised\")"
   ]
  },
  {
   "cell_type": "code",
   "execution_count": 117,
   "id": "e9aee21d",
   "metadata": {},
   "outputs": [
    {
     "data": {
      "image/png": "[encoded data removed]",
      "text/plain": [
       "<Figure size 432x288 with 1 Axes>"
      ]
     },
     "metadata": {},
     "output_type": "display_data"
    },
    {
     "data": {
      "image/png": "[encoded data removed]",
      "text/plain": [
       "<Figure size 432x288 with 1 Axes>"
      ]
     },
     "metadata": {},
     "output_type": "display_data"
    },
    {
     "data": {
      "image/png": "[encoded data removed]",
      "text/plain": [
       "<Figure size 432x288 with 1 Axes>"
      ]
     },
     "metadata": {},
     "output_type": "display_data"
    }
   ],
   "source": [
    "show_anaemia_diabetes_death_distributions(heart_failure_data)"
   ]
  },
  {
   "cell_type": "code",
   "execution_count": 119,
   "id": "2e215ebb",
   "metadata": {},
   "outputs": [],
   "source": [
    "import pandas as pd\n",
    "import matplotlib.pyplot as plt\n",
    "import seaborn as sns\n",
    "from scipy.stats import skew, kurtosis\n",
    "from scipy import stats\n",
    "from scipy.stats import mannwhitneyu, chi2_contingency\n",
    "from sklearn.utils import resample\n",
    "from sklearn.model_selection import train_test_split\n",
    "from sklearn.preprocessing import StandardScaler\n",
    "from sklearn import metrics\n",
    "from sklearn.metrics import accuracy_score, precision_score, recall_score, f1_score, confusion_matrix, classification_report\n",
    "from sklearn.naive_bayes import GaussianNB\n",
    "from sklearn.linear_model import LogisticRegression\n",
    "from sklearn.svm import SVC\n",
    "from sklearn.ensemble import RandomForestClassifier\n",
    "from sklearn.neighbors import KNeighborsClassifier\n",
    "from sklearn.neural_network import MLPClassifier\n",
    "from sklearn.feature_selection import SelectFromModel\n",
    "from imblearn.over_sampling import SMOTE"
   ]
  },
  {
   "cell_type": "markdown",
   "id": "b32a9a38",
   "metadata": {},
   "source": [
    "## ii). Classification I"
   ]
  },
  {
   "cell_type": "code",
   "execution_count": 120,
   "id": "1e3a1d6b",
   "metadata": {},
   "outputs": [
    {
     "data": {
      "text/html": [
       "<div>\n",
       "<style scoped>\n",
       "    .dataframe tbody tr th:only-of-type {\n",
       "        vertical-align: middle;\n",
       "    }\n",
       "\n",
       "    .dataframe tbody tr th {\n",
       "        vertical-align: top;\n",
       "    }\n",
       "\n",
       "    .dataframe thead th {\n",
       "        text-align: right;\n",
       "    }\n",
       "</style>\n",
       "<table border=\"1\" class=\"dataframe\">\n",
       "  <thead>\n",
       "    <tr style=\"text-align: right;\">\n",
       "      <th></th>\n",
       "      <th>age</th>\n",
       "      <th>anaemia</th>\n",
       "      <th>creatinine_phosphokinase</th>\n",
       "      <th>diabetes</th>\n",
       "      <th>ejection_fraction</th>\n",
       "      <th>high_blood_pressure</th>\n",
       "      <th>platelets</th>\n",
       "      <th>serum_creatinine</th>\n",
       "      <th>serum_sodium</th>\n",
       "      <th>sex</th>\n",
       "      <th>smoking</th>\n",
       "      <th>time</th>\n",
       "      <th>DEATH_EVENT</th>\n",
       "    </tr>\n",
       "  </thead>\n",
       "  <tbody>\n",
       "    <tr>\n",
       "      <th>0</th>\n",
       "      <td>75.0</td>\n",
       "      <td>0</td>\n",
       "      <td>582</td>\n",
       "      <td>0</td>\n",
       "      <td>20</td>\n",
       "      <td>1</td>\n",
       "      <td>265000.00</td>\n",
       "      <td>1.9</td>\n",
       "      <td>130</td>\n",
       "      <td>1</td>\n",
       "      <td>0</td>\n",
       "      <td>4</td>\n",
       "      <td>1</td>\n",
       "    </tr>\n",
       "    <tr>\n",
       "      <th>1</th>\n",
       "      <td>55.0</td>\n",
       "      <td>0</td>\n",
       "      <td>7861</td>\n",
       "      <td>0</td>\n",
       "      <td>38</td>\n",
       "      <td>0</td>\n",
       "      <td>263358.03</td>\n",
       "      <td>1.1</td>\n",
       "      <td>136</td>\n",
       "      <td>1</td>\n",
       "      <td>0</td>\n",
       "      <td>6</td>\n",
       "      <td>1</td>\n",
       "    </tr>\n",
       "    <tr>\n",
       "      <th>2</th>\n",
       "      <td>65.0</td>\n",
       "      <td>0</td>\n",
       "      <td>146</td>\n",
       "      <td>0</td>\n",
       "      <td>20</td>\n",
       "      <td>0</td>\n",
       "      <td>162000.00</td>\n",
       "      <td>1.3</td>\n",
       "      <td>129</td>\n",
       "      <td>1</td>\n",
       "      <td>1</td>\n",
       "      <td>7</td>\n",
       "      <td>1</td>\n",
       "    </tr>\n",
       "    <tr>\n",
       "      <th>3</th>\n",
       "      <td>50.0</td>\n",
       "      <td>1</td>\n",
       "      <td>111</td>\n",
       "      <td>0</td>\n",
       "      <td>20</td>\n",
       "      <td>0</td>\n",
       "      <td>210000.00</td>\n",
       "      <td>1.9</td>\n",
       "      <td>137</td>\n",
       "      <td>1</td>\n",
       "      <td>0</td>\n",
       "      <td>7</td>\n",
       "      <td>1</td>\n",
       "    </tr>\n",
       "    <tr>\n",
       "      <th>4</th>\n",
       "      <td>65.0</td>\n",
       "      <td>1</td>\n",
       "      <td>160</td>\n",
       "      <td>1</td>\n",
       "      <td>20</td>\n",
       "      <td>0</td>\n",
       "      <td>327000.00</td>\n",
       "      <td>2.7</td>\n",
       "      <td>116</td>\n",
       "      <td>0</td>\n",
       "      <td>0</td>\n",
       "      <td>8</td>\n",
       "      <td>1</td>\n",
       "    </tr>\n",
       "  </tbody>\n",
       "</table>\n",
       "</div>"
      ],
      "text/plain": [
       "    age  anaemia  creatinine_phosphokinase  diabetes  ejection_fraction  \\\n",
       "0  75.0        0                       582         0                 20   \n",
       "1  55.0        0                      7861         0                 38   \n",
       "2  65.0        0                       146         0                 20   \n",
       "3  50.0        1                       111         0                 20   \n",
       "4  65.0        1                       160         1                 20   \n",
       "\n",
       "   high_blood_pressure  platelets  serum_creatinine  serum_sodium  sex  \\\n",
       "0                    1  265000.00               1.9           130    1   \n",
       "1                    0  263358.03               1.1           136    1   \n",
       "2                    0  162000.00               1.3           129    1   \n",
       "3                    0  210000.00               1.9           137    1   \n",
       "4                    0  327000.00               2.7           116    0   \n",
       "\n",
       "   smoking  time  DEATH_EVENT  \n",
       "0        0     4            1  \n",
       "1        0     6            1  \n",
       "2        1     7            1  \n",
       "3        0     7            1  \n",
       "4        0     8            1  "
      ]
     },
     "execution_count": 120,
     "metadata": {},
     "output_type": "execute_result"
    }
   ],
   "source": [
    "data_df = pd.read_csv(\"heart_failure_clinical_records_dataset.csv\")\n",
    "data_df.head()"
   ]
  },
  {
   "cell_type": "code",
   "execution_count": 121,
   "id": "5214b6f4",
   "metadata": {},
   "outputs": [
    {
     "data": {
      "text/plain": [
       "(299, 13)"
      ]
     },
     "execution_count": 121,
     "metadata": {},
     "output_type": "execute_result"
    }
   ],
   "source": [
    "data_df.shape"
   ]
  },
  {
   "cell_type": "code",
   "execution_count": 122,
   "id": "f6eb2e59",
   "metadata": {},
   "outputs": [
    {
     "name": "stdout",
     "output_type": "stream",
     "text": [
      "<class 'pandas.core.frame.DataFrame'>\n",
      "RangeIndex: 299 entries, 0 to 298\n",
      "Data columns (total 13 columns):\n",
      " #   Column                    Non-Null Count  Dtype  \n",
      "---  ------                    --------------  -----  \n",
      " 0   age                       299 non-null    float64\n",
      " 1   anaemia                   299 non-null    int64  \n",
      " 2   creatinine_phosphokinase  299 non-null    int64  \n",
      " 3   diabetes                  299 non-null    int64  \n",
      " 4   ejection_fraction         299 non-null    int64  \n",
      " 5   high_blood_pressure       299 non-null    int64  \n",
      " 6   platelets                 299 non-null    float64\n",
      " 7   serum_creatinine          299 non-null    float64\n",
      " 8   serum_sodium              299 non-null    int64  \n",
      " 9   sex                       299 non-null    int64  \n",
      " 10  smoking                   299 non-null    int64  \n",
      " 11  time                      299 non-null    int64  \n",
      " 12  DEATH_EVENT               299 non-null    int64  \n",
      "dtypes: float64(3), int64(10)\n",
      "memory usage: 30.5 KB\n"
     ]
    }
   ],
   "source": [
    "data_df.info()"
   ]
  },
  {
   "cell_type": "code",
   "execution_count": 123,
   "id": "a3f8c93f",
   "metadata": {},
   "outputs": [
    {
     "data": {
      "text/plain": [
       "age                         False\n",
       "anaemia                     False\n",
       "creatinine_phosphokinase    False\n",
       "diabetes                    False\n",
       "ejection_fraction           False\n",
       "high_blood_pressure         False\n",
       "platelets                   False\n",
       "serum_creatinine            False\n",
       "serum_sodium                False\n",
       "sex                         False\n",
       "smoking                     False\n",
       "time                        False\n",
       "DEATH_EVENT                 False\n",
       "dtype: bool"
      ]
     },
     "execution_count": 123,
     "metadata": {},
     "output_type": "execute_result"
    }
   ],
   "source": [
    "data_df.isnull().any()"
   ]
  },
  {
   "cell_type": "code",
   "execution_count": 124,
   "id": "bf926990",
   "metadata": {},
   "outputs": [
    {
     "data": {
      "text/plain": [
       "age                         False\n",
       "anaemia                     False\n",
       "creatinine_phosphokinase    False\n",
       "diabetes                    False\n",
       "ejection_fraction           False\n",
       "high_blood_pressure         False\n",
       "platelets                   False\n",
       "serum_creatinine            False\n",
       "serum_sodium                False\n",
       "sex                         False\n",
       "smoking                     False\n",
       "time                        False\n",
       "DEATH_EVENT                 False\n",
       "dtype: bool"
      ]
     },
     "execution_count": 124,
     "metadata": {},
     "output_type": "execute_result"
    }
   ],
   "source": [
    "data_df.isna().any() "
   ]
  },
  {
   "cell_type": "markdown",
   "id": "f714b180",
   "metadata": {},
   "source": [
    "In order to make our code easy to maintain and while we need to retrain the same machine learning algorithms, I will define a function to do the required training"
   ]
  },
  {
   "cell_type": "code",
   "execution_count": 126,
   "id": "88dd4ca1",
   "metadata": {},
   "outputs": [],
   "source": [
    "# Split the data into features and target\n",
    "X = data_df.drop([\"DEATH_EVENT\"], axis=1)\n",
    "y = data_df[\"DEATH_EVENT\"]"
   ]
  },
  {
   "cell_type": "code",
   "execution_count": 127,
   "id": "ecae07fe",
   "metadata": {},
   "outputs": [],
   "source": [
    "# Evaluation function: find the Confusion metrics, Accuracy, Recall, F1 Score, and Precision for the passed model result\n",
    "def evaluation(y_test, y_pred):\n",
    "    # Print Accuracy, Recall, F1 Score, and Precision metrics.\n",
    "    print('Evaluation Metrics:')\n",
    "    print('Accuracy: ' + str(metrics.accuracy_score(y_test, y_pred)))\n",
    "    print('Recall: ' + str(metrics.recall_score(y_test, y_pred)))\n",
    "    print('F1 Score: ' + str(metrics.f1_score(y_test, y_pred)))\n",
    "    print('Precision: ' + str(metrics.precision_score(y_test, y_pred)))\n",
    "    \n",
    "    # Print Confusion Matrix\n",
    "    print('\\nConfusion Matrix:')\n",
    "    print(' TP,  FP, FN, TN')\n",
    "    print(confusion_matrix(y_test, y_pred).ravel())\n",
    "    # Confusion metrics\n",
    "    cm = metrics.confusion_matrix(y_test, y_pred)\n",
    "\n",
    "    sns.heatmap(cm, annot=True, fmt=\".3f\", linewidths=.5, square = True, cmap = 'Blues_r');\n",
    "    plt.ylabel('Actual label');\n",
    "    plt.xlabel('Predicted label');\n",
    "    all_sample_title = 'Accuracy Score: {0}'.format(accuracy_score(y_test, y_pred))\n",
    "    plt.title(all_sample_title, size = 15);"
   ]
  },
  {
   "cell_type": "code",
   "execution_count": 128,
   "id": "86d44268",
   "metadata": {},
   "outputs": [],
   "source": [
    "# Fit machine learning algorithms"
   ]
  },
  {
   "cell_type": "code",
   "execution_count": 129,
   "id": "1e993858",
   "metadata": {},
   "outputs": [],
   "source": [
    "# 1- Fit the Naive Bayes model\n",
    "def fit_naive_bayes_model(X_train, X_test, y_train):\n",
    "    try:\n",
    "        print(\"Fit the Naive Bayes model\")\n",
    "        gnb_model = GaussianNB()\n",
    "        gnb_model.fit(X_train, y_train)\n",
    "        # Predict on the test set\n",
    "        y_pred = gnb_model.predict(X_test)\n",
    "        return gnb_model, y_pred\n",
    "\n",
    "    except Exception as e:\n",
    "        print(f\"An error {e} has been raised\")"
   ]
  },
  {
   "cell_type": "code",
   "execution_count": 130,
   "id": "9977bf2b",
   "metadata": {},
   "outputs": [],
   "source": [
    "# 2- Fit the Logistic Regression model\n",
    "def fit_logistic_regression_model(X_train, X_test, y_train):\n",
    "    try:\n",
    "        print(\"Fit the Logistic Regression model\")\n",
    "        log_reg_model = LogisticRegression(C=100, max_iter=150, class_weight='balanced')\n",
    "        log_reg_model.fit(X_train, y_train)\n",
    "        # Predict on the test s\n",
    "        y_pred = log_reg_model.predict(X_test)\n",
    "        return log_reg_model, y_pred\n",
    "\n",
    "    except Exception as e:\n",
    "        print(f\"An error {e} has been raised\")"
   ]
  },
  {
   "cell_type": "code",
   "execution_count": 131,
   "id": "22dcf76f",
   "metadata": {},
   "outputs": [],
   "source": [
    "# 3- Fit the Support Vector Machine model\n",
    "def fit_svc_model(X_train, X_test, y_train):\n",
    "    try:\n",
    "        svc_model = SVC(kernel='rbf', C=1, gamma='auto')\n",
    "        svc_model.fit(X_train, y_train)\n",
    "        # Predict on the test set\n",
    "        y_pred = svc_model.predict(X_test)\n",
    "        return svc_model, y_pred\n",
    "\n",
    "    except Exception as e:\n",
    "        print(f\"An error {e} has been raised\")"
   ]
  },
  {
   "cell_type": "code",
   "execution_count": 132,
   "id": "a114a769",
   "metadata": {},
   "outputs": [],
   "source": [
    "# 4- Fit the Random Forest classifier model\n",
    "def random_forest_classifier_model(X_train, X_test, y_train):\n",
    "    try:\n",
    "        print(\"Fit the Random Forest classifier model\")\n",
    "        rfc_model = RandomForestClassifier(n_estimators=100)\n",
    "        rfc_model.fit(X_train, y_train)\n",
    "        # Predict on the test set\n",
    "        y_pred = rfc_model.predict(X_test)\n",
    "        return rfc_model, y_pred\n",
    "\n",
    "    except Exception as e:\n",
    "        print(f\"An error {e} has been raised\")"
   ]
  },
  {
   "cell_type": "code",
   "execution_count": 133,
   "id": "87d77864",
   "metadata": {},
   "outputs": [],
   "source": [
    "# 5- Fit the K-Nearest Neighbour model\n",
    "def fit_knn_model(X_train, X_test, y_train):\n",
    "    try:\n",
    "        print(\"Fit the K-Nearest Neighbour model\")\n",
    "        knn_model = KNeighborsClassifier(n_neighbors=3)\n",
    "        knn_model.fit(X_train, y_train)\n",
    "        # Predict on the test set\n",
    "        y_pred = knn_model.predict(X_test)\n",
    "        return knn_model, y_pred\n",
    "\n",
    "    except Exception as e:\n",
    "        print(f\"An error {e} has been raised\")"
   ]
  },
  {
   "cell_type": "code",
   "execution_count": 134,
   "id": "f86b714c",
   "metadata": {},
   "outputs": [],
   "source": [
    "# 6- Fit the Multi-Layer Perceptron Neural Network model\n",
    "def fit_multi_layer_perceptron_nn(X_train, X_test, y_train):\n",
    "    try:\n",
    "        # Fit the Multi-Layer Perceptron Neural Network model\n",
    "        mlp_model = MLPClassifier(hidden_layer_sizes=(50, 100, 50), activation='relu', solver='adam', alpha=0.001,\n",
    "                                  learning_rate='adaptive', max_iter=200, random_state=42)\n",
    "        mlp_model.fit(X_train, y_train)\n",
    "        # Predict on the test set\n",
    "        y_pred = mlp_model.predict(X_test)\n",
    "        return mlp_model, y_pred\n",
    "\n",
    "    except Exception as e:\n",
    "        print(f\"An error {e} has been raised\")"
   ]
  },
  {
   "cell_type": "markdown",
   "id": "7cd1bfea",
   "metadata": {},
   "source": [
    "### Split the dataset on training and testing sets."
   ]
  },
  {
   "cell_type": "code",
   "execution_count": 135,
   "id": "5f133e5c",
   "metadata": {},
   "outputs": [],
   "source": [
    "# Split the data into training and testing sets\n",
    "X_train, X_test, y_train, y_test = train_test_split(X, y, test_size=0.33, random_state=42)"
   ]
  },
  {
   "cell_type": "code",
   "execution_count": 136,
   "id": "1f8b2a51",
   "metadata": {},
   "outputs": [
    {
     "data": {
      "text/html": [
       "<div>\n",
       "<style scoped>\n",
       "    .dataframe tbody tr th:only-of-type {\n",
       "        vertical-align: middle;\n",
       "    }\n",
       "\n",
       "    .dataframe tbody tr th {\n",
       "        vertical-align: top;\n",
       "    }\n",
       "\n",
       "    .dataframe thead th {\n",
       "        text-align: right;\n",
       "    }\n",
       "</style>\n",
       "<table border=\"1\" class=\"dataframe\">\n",
       "  <thead>\n",
       "    <tr style=\"text-align: right;\">\n",
       "      <th></th>\n",
       "      <th>age</th>\n",
       "      <th>anaemia</th>\n",
       "      <th>creatinine_phosphokinase</th>\n",
       "      <th>diabetes</th>\n",
       "      <th>ejection_fraction</th>\n",
       "      <th>high_blood_pressure</th>\n",
       "      <th>platelets</th>\n",
       "      <th>serum_creatinine</th>\n",
       "      <th>serum_sodium</th>\n",
       "      <th>sex</th>\n",
       "      <th>smoking</th>\n",
       "      <th>time</th>\n",
       "    </tr>\n",
       "  </thead>\n",
       "  <tbody>\n",
       "    <tr>\n",
       "      <th>101</th>\n",
       "      <td>75.0</td>\n",
       "      <td>0</td>\n",
       "      <td>582</td>\n",
       "      <td>0</td>\n",
       "      <td>45</td>\n",
       "      <td>1</td>\n",
       "      <td>263358.03</td>\n",
       "      <td>1.18</td>\n",
       "      <td>137</td>\n",
       "      <td>1</td>\n",
       "      <td>0</td>\n",
       "      <td>87</td>\n",
       "    </tr>\n",
       "    <tr>\n",
       "      <th>69</th>\n",
       "      <td>65.0</td>\n",
       "      <td>0</td>\n",
       "      <td>113</td>\n",
       "      <td>1</td>\n",
       "      <td>25</td>\n",
       "      <td>0</td>\n",
       "      <td>497000.00</td>\n",
       "      <td>1.83</td>\n",
       "      <td>135</td>\n",
       "      <td>1</td>\n",
       "      <td>0</td>\n",
       "      <td>67</td>\n",
       "    </tr>\n",
       "    <tr>\n",
       "      <th>31</th>\n",
       "      <td>85.0</td>\n",
       "      <td>0</td>\n",
       "      <td>23</td>\n",
       "      <td>0</td>\n",
       "      <td>45</td>\n",
       "      <td>0</td>\n",
       "      <td>360000.00</td>\n",
       "      <td>3.00</td>\n",
       "      <td>132</td>\n",
       "      <td>1</td>\n",
       "      <td>0</td>\n",
       "      <td>28</td>\n",
       "    </tr>\n",
       "    <tr>\n",
       "      <th>172</th>\n",
       "      <td>70.0</td>\n",
       "      <td>1</td>\n",
       "      <td>171</td>\n",
       "      <td>0</td>\n",
       "      <td>60</td>\n",
       "      <td>1</td>\n",
       "      <td>176000.00</td>\n",
       "      <td>1.10</td>\n",
       "      <td>145</td>\n",
       "      <td>1</td>\n",
       "      <td>1</td>\n",
       "      <td>146</td>\n",
       "    </tr>\n",
       "    <tr>\n",
       "      <th>148</th>\n",
       "      <td>75.0</td>\n",
       "      <td>1</td>\n",
       "      <td>582</td>\n",
       "      <td>0</td>\n",
       "      <td>30</td>\n",
       "      <td>0</td>\n",
       "      <td>225000.00</td>\n",
       "      <td>1.83</td>\n",
       "      <td>134</td>\n",
       "      <td>1</td>\n",
       "      <td>0</td>\n",
       "      <td>113</td>\n",
       "    </tr>\n",
       "  </tbody>\n",
       "</table>\n",
       "</div>"
      ],
      "text/plain": [
       "      age  anaemia  creatinine_phosphokinase  diabetes  ejection_fraction  \\\n",
       "101  75.0        0                       582         0                 45   \n",
       "69   65.0        0                       113         1                 25   \n",
       "31   85.0        0                        23         0                 45   \n",
       "172  70.0        1                       171         0                 60   \n",
       "148  75.0        1                       582         0                 30   \n",
       "\n",
       "     high_blood_pressure  platelets  serum_creatinine  serum_sodium  sex  \\\n",
       "101                    1  263358.03              1.18           137    1   \n",
       "69                     0  497000.00              1.83           135    1   \n",
       "31                     0  360000.00              3.00           132    1   \n",
       "172                    1  176000.00              1.10           145    1   \n",
       "148                    0  225000.00              1.83           134    1   \n",
       "\n",
       "     smoking  time  \n",
       "101        0    87  \n",
       "69         0    67  \n",
       "31         0    28  \n",
       "172        1   146  \n",
       "148        0   113  "
      ]
     },
     "execution_count": 136,
     "metadata": {},
     "output_type": "execute_result"
    }
   ],
   "source": [
    "X_train.head()"
   ]
  },
  {
   "cell_type": "code",
   "execution_count": 138,
   "id": "ef97e139",
   "metadata": {},
   "outputs": [
    {
     "data": {
      "text/plain": [
       "(200, 12)"
      ]
     },
     "execution_count": 138,
     "metadata": {},
     "output_type": "execute_result"
    }
   ],
   "source": [
    "X_train.shape"
   ]
  },
  {
   "cell_type": "code",
   "execution_count": 140,
   "id": "8533314c",
   "metadata": {},
   "outputs": [
    {
     "data": {
      "text/plain": [
       "(200,)"
      ]
     },
     "execution_count": 140,
     "metadata": {},
     "output_type": "execute_result"
    }
   ],
   "source": [
    "y_train.shape"
   ]
  },
  {
   "cell_type": "code",
   "execution_count": 142,
   "id": "718a0649",
   "metadata": {},
   "outputs": [
    {
     "data": {
      "text/plain": [
       "(99, 12)"
      ]
     },
     "execution_count": 142,
     "metadata": {},
     "output_type": "execute_result"
    }
   ],
   "source": [
    "X_test.shape"
   ]
  },
  {
   "cell_type": "code",
   "execution_count": 143,
   "id": "f081c182",
   "metadata": {},
   "outputs": [
    {
     "data": {
      "text/plain": [
       "(99,)"
      ]
     },
     "execution_count": 143,
     "metadata": {},
     "output_type": "execute_result"
    }
   ],
   "source": [
    "y_test.shape"
   ]
  },
  {
   "cell_type": "markdown",
   "id": "865e85dc",
   "metadata": {},
   "source": [
    "### Fit the Naive Bayes model"
   ]
  },
  {
   "cell_type": "code",
   "execution_count": 144,
   "id": "0a899ca4",
   "metadata": {},
   "outputs": [
    {
     "name": "stdout",
     "output_type": "stream",
     "text": [
      "Fit the Naive Bayes model\n"
     ]
    }
   ],
   "source": [
    "nb_model, nb_predict = fit_naive_bayes_model(X_train, X_test, y_train)"
   ]
  },
  {
   "cell_type": "code",
   "execution_count": 145,
   "id": "8acdf12c",
   "metadata": {},
   "outputs": [
    {
     "data": {
      "text/plain": [
       "array([0, 0, 0, 1, 0, 0, 0, 1, 1, 0], dtype=int64)"
      ]
     },
     "execution_count": 145,
     "metadata": {},
     "output_type": "execute_result"
    }
   ],
   "source": [
    "nb_predict[:10]#Let's see the first 10 predictions"
   ]
  },
  {
   "cell_type": "markdown",
   "id": "def70e48",
   "metadata": {},
   "source": [
    "### Model Evaluation"
   ]
  },
  {
   "cell_type": "code",
   "execution_count": 146,
   "id": "b06450da",
   "metadata": {},
   "outputs": [
    {
     "name": "stdout",
     "output_type": "stream",
     "text": [
      "Evaluation Metrics:\n",
      "Accuracy: 0.7575757575757576\n",
      "Recall: 0.47619047619047616\n",
      "F1 Score: 0.6249999999999999\n",
      "Precision: 0.9090909090909091\n",
      "\n",
      "Confusion Matrix:\n",
      " TP,  FP, FN, TN\n",
      "[55  2 22 20]\n"
     ]
    },
    {
     "data": {
      "image/png": "[encoded data removed]",
      "text/plain": [
       "<Figure size 432x288 with 2 Axes>"
      ]
     },
     "metadata": {
      "needs_background": "light"
     },
     "output_type": "display_data"
    }
   ],
   "source": [
    "evaluation(y_test, nb_predict)"
   ]
  },
  {
   "cell_type": "markdown",
   "id": "699f4102",
   "metadata": {},
   "source": [
    "### Fit the Logistic Regression model"
   ]
  },
  {
   "cell_type": "code",
   "execution_count": 147,
   "id": "be459c1f",
   "metadata": {},
   "outputs": [
    {
     "name": "stdout",
     "output_type": "stream",
     "text": [
      "Fit the Logistic Regression model\n"
     ]
    }
   ],
   "source": [
    "log_reg_model, log_reg_predict = fit_logistic_regression_model(X_train, X_test, y_train)"
   ]
  },
  {
   "cell_type": "code",
   "execution_count": 148,
   "id": "9bcd6e00",
   "metadata": {},
   "outputs": [
    {
     "data": {
      "text/plain": [
       "array([0, 0, 0, 1, 0, 0, 1, 0, 1, 0], dtype=int64)"
      ]
     },
     "execution_count": 148,
     "metadata": {},
     "output_type": "execute_result"
    }
   ],
   "source": [
    "log_reg_predict[:10]#Let's see the first 10 predictions"
   ]
  },
  {
   "cell_type": "code",
   "execution_count": 149,
   "id": "4bd17d5d",
   "metadata": {},
   "outputs": [],
   "source": [
    "### Model Evaluation"
   ]
  },
  {
   "cell_type": "code",
   "execution_count": 150,
   "id": "17fbe11f",
   "metadata": {},
   "outputs": [
    {
     "name": "stdout",
     "output_type": "stream",
     "text": [
      "Evaluation Metrics:\n",
      "Accuracy: 0.7777777777777778\n",
      "Recall: 0.7142857142857143\n",
      "F1 Score: 0.7317073170731706\n",
      "Precision: 0.75\n",
      "\n",
      "Confusion Matrix:\n",
      " TP,  FP, FN, TN\n",
      "[47 10 12 30]\n"
     ]
    },
    {
     "data": {
      "image/png": "[encoded data removed]",
      "text/plain": [
       "<Figure size 432x288 with 2 Axes>"
      ]
     },
     "metadata": {
      "needs_background": "light"
     },
     "output_type": "display_data"
    }
   ],
   "source": [
    "evaluation(y_test, log_reg_predict)"
   ]
  },
  {
   "cell_type": "markdown",
   "id": "890adb43",
   "metadata": {},
   "source": [
    "### Fit the Support Vector Machine model"
   ]
  },
  {
   "cell_type": "code",
   "execution_count": 151,
   "id": "6664aa9f",
   "metadata": {},
   "outputs": [],
   "source": [
    "svc_model, svc_predict = fit_svc_model(X_train, X_test, y_train)"
   ]
  },
  {
   "cell_type": "code",
   "execution_count": 152,
   "id": "7ce9d3ca",
   "metadata": {},
   "outputs": [
    {
     "data": {
      "text/plain": [
       "array([0, 0, 0, 0, 0, 0, 0, 0, 0, 0], dtype=int64)"
      ]
     },
     "execution_count": 152,
     "metadata": {},
     "output_type": "execute_result"
    }
   ],
   "source": [
    "svc_predict[:10]#Let's see the first 10 predictions"
   ]
  },
  {
   "cell_type": "markdown",
   "id": "5f853c00",
   "metadata": {},
   "source": [
    "### Model Evaluation"
   ]
  },
  {
   "cell_type": "code",
   "execution_count": 153,
   "id": "748c1f84",
   "metadata": {},
   "outputs": [
    {
     "name": "stdout",
     "output_type": "stream",
     "text": [
      "Evaluation Metrics:\n",
      "Accuracy: 0.5757575757575758\n",
      "Recall: 0.0\n",
      "F1 Score: 0.0\n",
      "Precision: 0.0\n",
      "\n",
      "Confusion Matrix:\n",
      " TP,  FP, FN, TN\n",
      "[57  0 42  0]\n"
     ]
    },
    {
     "name": "stderr",
     "output_type": "stream",
     "text": [
      "c:\\users\\tota\\appdata\\local\\programs\\python\\python37\\lib\\site-packages\\sklearn\\metrics\\_classification.py:1318: UndefinedMetricWarning: Precision is ill-defined and being set to 0.0 due to no predicted samples. Use `zero_division` parameter to control this behavior.\n",
      "  _warn_prf(average, modifier, msg_start, len(result))\n"
     ]
    },
    {
     "data": {
      "image/png": "[encoded data removed]",
      "text/plain": [
       "<Figure size 432x288 with 2 Axes>"
      ]
     },
     "metadata": {
      "needs_background": "light"
     },
     "output_type": "display_data"
    }
   ],
   "source": [
    "evaluation(y_test, svc_predict)"
   ]
  },
  {
   "cell_type": "markdown",
   "id": "ed173efd",
   "metadata": {},
   "source": [
    "### Fit the Random Forest classifier model"
   ]
  },
  {
   "cell_type": "code",
   "execution_count": 154,
   "id": "0271124a",
   "metadata": {},
   "outputs": [
    {
     "name": "stdout",
     "output_type": "stream",
     "text": [
      "Fit the Random Forest classifier model\n"
     ]
    }
   ],
   "source": [
    "rfc_model, rfc_predict = random_forest_classifier_model(X_train, X_test, y_train)"
   ]
  },
  {
   "cell_type": "code",
   "execution_count": 155,
   "id": "b63ecc21",
   "metadata": {},
   "outputs": [
    {
     "data": {
      "text/plain": [
       "array([0, 0, 0, 1, 0, 0, 0, 0, 1, 0], dtype=int64)"
      ]
     },
     "execution_count": 155,
     "metadata": {},
     "output_type": "execute_result"
    }
   ],
   "source": [
    "rfc_predict[:10]#Let's see the first 10 predictions"
   ]
  },
  {
   "cell_type": "markdown",
   "id": "5088757e",
   "metadata": {},
   "source": [
    "### Model Evaluation"
   ]
  },
  {
   "cell_type": "code",
   "execution_count": 156,
   "id": "58da2f18",
   "metadata": {},
   "outputs": [
    {
     "name": "stdout",
     "output_type": "stream",
     "text": [
      "Evaluation Metrics:\n",
      "Accuracy: 0.7575757575757576\n",
      "Recall: 0.5238095238095238\n",
      "F1 Score: 0.6470588235294118\n",
      "Precision: 0.8461538461538461\n",
      "\n",
      "Confusion Matrix:\n",
      " TP,  FP, FN, TN\n",
      "[53  4 20 22]\n"
     ]
    },
    {
     "data": {
      "image/png": "[encoded data removed]",
      "text/plain": [
       "<Figure size 432x288 with 2 Axes>"
      ]
     },
     "metadata": {
      "needs_background": "light"
     },
     "output_type": "display_data"
    }
   ],
   "source": [
    "evaluation(y_test, rfc_predict)"
   ]
  },
  {
   "cell_type": "markdown",
   "id": "86dcb2a2",
   "metadata": {},
   "source": [
    "### Fit the K-Nearest Neighbour model"
   ]
  },
  {
   "cell_type": "code",
   "execution_count": 157,
   "id": "f5460a53",
   "metadata": {},
   "outputs": [
    {
     "name": "stdout",
     "output_type": "stream",
     "text": [
      "Fit the K-Nearest Neighbour model\n"
     ]
    }
   ],
   "source": [
    "knn_model, knn_predict = fit_knn_model(X_train, X_test, y_train)"
   ]
  },
  {
   "cell_type": "code",
   "execution_count": 158,
   "id": "e7118430",
   "metadata": {},
   "outputs": [
    {
     "data": {
      "text/plain": [
       "array([1, 0, 0, 0, 0, 0, 0, 0, 0, 0], dtype=int64)"
      ]
     },
     "execution_count": 158,
     "metadata": {},
     "output_type": "execute_result"
    }
   ],
   "source": [
    "knn_predict[:10]"
   ]
  },
  {
   "cell_type": "markdown",
   "id": "8add39fb",
   "metadata": {},
   "source": [
    "### Model Evaluation"
   ]
  },
  {
   "cell_type": "code",
   "execution_count": 159,
   "id": "53253582",
   "metadata": {},
   "outputs": [
    {
     "name": "stdout",
     "output_type": "stream",
     "text": [
      "Evaluation Metrics:\n",
      "Accuracy: 0.5656565656565656\n",
      "Recall: 0.16666666666666666\n",
      "F1 Score: 0.2456140350877193\n",
      "Precision: 0.4666666666666667\n",
      "\n",
      "Confusion Matrix:\n",
      " TP,  FP, FN, TN\n",
      "[49  8 35  7]\n"
     ]
    },
    {
     "data": {
      "image/png": "[encoded data removed]",
      "text/plain": [
       "<Figure size 432x288 with 2 Axes>"
      ]
     },
     "metadata": {
      "needs_background": "light"
     },
     "output_type": "display_data"
    }
   ],
   "source": [
    "evaluation(y_test, knn_predict)"
   ]
  },
  {
   "cell_type": "markdown",
   "id": "7d349529",
   "metadata": {},
   "source": [
    "### Fit the Multi-Layer Perceptron Neural Network model"
   ]
  },
  {
   "cell_type": "code",
   "execution_count": 160,
   "id": "997be105",
   "metadata": {},
   "outputs": [],
   "source": [
    "mlp_model, mlp_predict = fit_multi_layer_perceptron_nn(X_train, X_test, y_train)"
   ]
  },
  {
   "cell_type": "code",
   "execution_count": 161,
   "id": "e303aa96",
   "metadata": {},
   "outputs": [
    {
     "data": {
      "text/plain": [
       "array([1, 1, 1, 1, 1, 1, 1, 1, 1, 1], dtype=int64)"
      ]
     },
     "execution_count": 161,
     "metadata": {},
     "output_type": "execute_result"
    }
   ],
   "source": [
    "mlp_predict[:10]"
   ]
  },
  {
   "cell_type": "markdown",
   "id": "c650b02b",
   "metadata": {},
   "source": [
    "### Model Evaluation"
   ]
  },
  {
   "cell_type": "code",
   "execution_count": 162,
   "id": "9bd3e190",
   "metadata": {},
   "outputs": [
    {
     "name": "stdout",
     "output_type": "stream",
     "text": [
      "Evaluation Metrics:\n",
      "Accuracy: 0.42424242424242425\n",
      "Recall: 1.0\n",
      "F1 Score: 0.5957446808510638\n",
      "Precision: 0.42424242424242425\n",
      "\n",
      "Confusion Matrix:\n",
      " TP,  FP, FN, TN\n",
      "[ 0 57  0 42]\n"
     ]
    },
    {
     "data": {
      "image/png": "[encoded data removed]",
      "text/plain": [
       "<Figure size 432x288 with 2 Axes>"
      ]
     },
     "metadata": {
      "needs_background": "light"
     },
     "output_type": "display_data"
    }
   ],
   "source": [
    "evaluation(y_test, mlp_predict)"
   ]
  },
  {
   "cell_type": "markdown",
   "id": "90ed9282",
   "metadata": {},
   "source": [
    "## iii). Classification II"
   ]
  },
  {
   "cell_type": "markdown",
   "id": "b4b8f427",
   "metadata": {},
   "source": [
    "#### class imbalance problem"
   ]
  },
  {
   "cell_type": "code",
   "execution_count": 163,
   "id": "ac783bad",
   "metadata": {},
   "outputs": [],
   "source": [
    "def producing_the_plot_of_the_target(data_df):\n",
    "    try:\n",
    "        # Count the number of occurrences of each class in the target variable\n",
    "        class_counts = data_df['DEATH_EVENT'].value_counts()\n",
    "        # Plot the class distribution\n",
    "        class_counts.plot(kind='bar', rot=0)\n",
    "        plt.xlabel('Class')\n",
    "        plt.ylabel('Count')\n",
    "        plt.title('Class Distribution')\n",
    "        plt.show()\n",
    "\n",
    "    except Exception as e:\n",
    "        print(f\"An error {e} has been raised\")"
   ]
  },
  {
   "cell_type": "code",
   "execution_count": 164,
   "id": "3e494945",
   "metadata": {},
   "outputs": [
    {
     "data": {
      "image/png": "[encoded data removed]",
      "text/plain": [
       "<Figure size 432x288 with 1 Axes>"
      ]
     },
     "metadata": {
      "needs_background": "light"
     },
     "output_type": "display_data"
    }
   ],
   "source": [
    "producing_the_plot_of_the_target(data_df)"
   ]
  },
  {
   "cell_type": "markdown",
   "id": "2d728f24",
   "metadata": {},
   "source": [
    "### Random under-sampling with imblearn"
   ]
  },
  {
   "cell_type": "code",
   "execution_count": 165,
   "id": "0aa23b9a",
   "metadata": {},
   "outputs": [],
   "source": [
    "from imblearn.under_sampling import RandomUnderSampler"
   ]
  },
  {
   "cell_type": "code",
   "execution_count": 166,
   "id": "c586b64a",
   "metadata": {},
   "outputs": [],
   "source": [
    "from collections import Counter"
   ]
  },
  {
   "cell_type": "code",
   "execution_count": 167,
   "id": "ba555966",
   "metadata": {},
   "outputs": [],
   "source": [
    "# Split the data into features and target\n",
    "X_new = data_df.drop([\"DEATH_EVENT\"], axis=1)\n",
    "y_new = data_df[\"DEATH_EVENT\"]"
   ]
  },
  {
   "cell_type": "code",
   "execution_count": 168,
   "id": "fbeac04b",
   "metadata": {},
   "outputs": [
    {
     "name": "stdout",
     "output_type": "stream",
     "text": [
      "original dataset shape: Counter({0: 203, 1: 96})\n",
      "Resample dataset shape Counter({0: 96, 1: 96})\n"
     ]
    }
   ],
   "source": [
    "rus = RandomUnderSampler(random_state=42, replacement=True)# fit predictor and target variable\n",
    "x_rus, y_rus = rus.fit_resample(X_new, y_new)\n",
    "\n",
    "print('original dataset shape:', Counter(y_new))\n",
    "print('Resample dataset shape', Counter(y_rus))"
   ]
  },
  {
   "cell_type": "code",
   "execution_count": 169,
   "id": "5c54a4ae",
   "metadata": {},
   "outputs": [
    {
     "data": {
      "text/plain": [
       "(192,)"
      ]
     },
     "execution_count": 169,
     "metadata": {},
     "output_type": "execute_result"
    }
   ],
   "source": [
    "y_rus.shape"
   ]
  },
  {
   "cell_type": "code",
   "execution_count": 170,
   "id": "9caaf702",
   "metadata": {},
   "outputs": [
    {
     "data": {
      "text/plain": [
       "(192, 12)"
      ]
     },
     "execution_count": 170,
     "metadata": {},
     "output_type": "execute_result"
    }
   ],
   "source": [
    "x_rus.shape"
   ]
  },
  {
   "cell_type": "code",
   "execution_count": 171,
   "id": "2a945168",
   "metadata": {},
   "outputs": [
    {
     "data": {
      "text/html": [
       "<div>\n",
       "<style scoped>\n",
       "    .dataframe tbody tr th:only-of-type {\n",
       "        vertical-align: middle;\n",
       "    }\n",
       "\n",
       "    .dataframe tbody tr th {\n",
       "        vertical-align: top;\n",
       "    }\n",
       "\n",
       "    .dataframe thead th {\n",
       "        text-align: right;\n",
       "    }\n",
       "</style>\n",
       "<table border=\"1\" class=\"dataframe\">\n",
       "  <thead>\n",
       "    <tr style=\"text-align: right;\">\n",
       "      <th></th>\n",
       "      <th>age</th>\n",
       "      <th>anaemia</th>\n",
       "      <th>creatinine_phosphokinase</th>\n",
       "      <th>diabetes</th>\n",
       "      <th>ejection_fraction</th>\n",
       "      <th>high_blood_pressure</th>\n",
       "      <th>platelets</th>\n",
       "      <th>serum_creatinine</th>\n",
       "      <th>serum_sodium</th>\n",
       "      <th>sex</th>\n",
       "      <th>smoking</th>\n",
       "      <th>time</th>\n",
       "    </tr>\n",
       "  </thead>\n",
       "  <tbody>\n",
       "    <tr>\n",
       "      <th>0</th>\n",
       "      <td>40.0</td>\n",
       "      <td>0</td>\n",
       "      <td>244</td>\n",
       "      <td>0</td>\n",
       "      <td>45</td>\n",
       "      <td>1</td>\n",
       "      <td>275000.0</td>\n",
       "      <td>0.90</td>\n",
       "      <td>140</td>\n",
       "      <td>0</td>\n",
       "      <td>0</td>\n",
       "      <td>174</td>\n",
       "    </tr>\n",
       "    <tr>\n",
       "      <th>1</th>\n",
       "      <td>45.0</td>\n",
       "      <td>0</td>\n",
       "      <td>582</td>\n",
       "      <td>0</td>\n",
       "      <td>38</td>\n",
       "      <td>1</td>\n",
       "      <td>422000.0</td>\n",
       "      <td>0.80</td>\n",
       "      <td>137</td>\n",
       "      <td>0</td>\n",
       "      <td>0</td>\n",
       "      <td>245</td>\n",
       "    </tr>\n",
       "    <tr>\n",
       "      <th>2</th>\n",
       "      <td>70.0</td>\n",
       "      <td>1</td>\n",
       "      <td>171</td>\n",
       "      <td>0</td>\n",
       "      <td>60</td>\n",
       "      <td>1</td>\n",
       "      <td>176000.0</td>\n",
       "      <td>1.10</td>\n",
       "      <td>145</td>\n",
       "      <td>1</td>\n",
       "      <td>1</td>\n",
       "      <td>146</td>\n",
       "    </tr>\n",
       "    <tr>\n",
       "      <th>3</th>\n",
       "      <td>42.0</td>\n",
       "      <td>0</td>\n",
       "      <td>102</td>\n",
       "      <td>1</td>\n",
       "      <td>40</td>\n",
       "      <td>0</td>\n",
       "      <td>237000.0</td>\n",
       "      <td>1.20</td>\n",
       "      <td>140</td>\n",
       "      <td>1</td>\n",
       "      <td>0</td>\n",
       "      <td>74</td>\n",
       "    </tr>\n",
       "    <tr>\n",
       "      <th>4</th>\n",
       "      <td>73.0</td>\n",
       "      <td>1</td>\n",
       "      <td>231</td>\n",
       "      <td>1</td>\n",
       "      <td>30</td>\n",
       "      <td>0</td>\n",
       "      <td>160000.0</td>\n",
       "      <td>1.18</td>\n",
       "      <td>142</td>\n",
       "      <td>1</td>\n",
       "      <td>1</td>\n",
       "      <td>180</td>\n",
       "    </tr>\n",
       "  </tbody>\n",
       "</table>\n",
       "</div>"
      ],
      "text/plain": [
       "    age  anaemia  creatinine_phosphokinase  diabetes  ejection_fraction  \\\n",
       "0  40.0        0                       244         0                 45   \n",
       "1  45.0        0                       582         0                 38   \n",
       "2  70.0        1                       171         0                 60   \n",
       "3  42.0        0                       102         1                 40   \n",
       "4  73.0        1                       231         1                 30   \n",
       "\n",
       "   high_blood_pressure  platelets  serum_creatinine  serum_sodium  sex  \\\n",
       "0                    1   275000.0              0.90           140    0   \n",
       "1                    1   422000.0              0.80           137    0   \n",
       "2                    1   176000.0              1.10           145    1   \n",
       "3                    0   237000.0              1.20           140    1   \n",
       "4                    0   160000.0              1.18           142    1   \n",
       "\n",
       "   smoking  time  \n",
       "0        0   174  \n",
       "1        0   245  \n",
       "2        1   146  \n",
       "3        0    74  \n",
       "4        1   180  "
      ]
     },
     "execution_count": 171,
     "metadata": {},
     "output_type": "execute_result"
    }
   ],
   "source": [
    "x_rus.head()"
   ]
  },
  {
   "cell_type": "markdown",
   "id": "ce0c123f",
   "metadata": {},
   "source": [
    "Repeat the code starting from split the dataset into training and test sets\n",
    "Then retrain all the previous models and compare the results"
   ]
  },
  {
   "cell_type": "code",
   "execution_count": 172,
   "id": "b65ac599",
   "metadata": {},
   "outputs": [],
   "source": [
    "# Split the data into training and testing sets\n",
    "X_train_rus, X_test_rus, y_train_rus, y_test_rus = train_test_split(X, y, test_size=0.33, random_state=42)"
   ]
  },
  {
   "cell_type": "markdown",
   "id": "90353163",
   "metadata": {},
   "source": [
    "### Random over-sampling with imblearn"
   ]
  },
  {
   "cell_type": "code",
   "execution_count": 174,
   "id": "bb95633c",
   "metadata": {},
   "outputs": [
    {
     "name": "stdout",
     "output_type": "stream",
     "text": [
      "Original dataset shape Counter({0: 203, 1: 96})\n",
      "Resample dataset shape Counter({1: 203, 0: 203})\n"
     ]
    }
   ],
   "source": [
    "# import library\n",
    "from imblearn.over_sampling import RandomOverSampler\n",
    "\n",
    "ros = RandomOverSampler(random_state=42)\n",
    "\n",
    "\n",
    "# fit predictor and target variable\n",
    "x_ros, y_ros = ros.fit_resample(X_new, y_new)\n",
    "\n",
    "print('Original dataset shape', Counter(y_new))\n",
    "print('Resample dataset shape', Counter(y_ros))"
   ]
  },
  {
   "cell_type": "code",
   "execution_count": 175,
   "id": "ce94edf7",
   "metadata": {},
   "outputs": [
    {
     "data": {
      "text/plain": [
       "(406, 12)"
      ]
     },
     "execution_count": 175,
     "metadata": {},
     "output_type": "execute_result"
    }
   ],
   "source": [
    "x_ros.shape"
   ]
  },
  {
   "cell_type": "code",
   "execution_count": 176,
   "id": "8d81b9c9",
   "metadata": {},
   "outputs": [
    {
     "data": {
      "text/html": [
       "<div>\n",
       "<style scoped>\n",
       "    .dataframe tbody tr th:only-of-type {\n",
       "        vertical-align: middle;\n",
       "    }\n",
       "\n",
       "    .dataframe tbody tr th {\n",
       "        vertical-align: top;\n",
       "    }\n",
       "\n",
       "    .dataframe thead th {\n",
       "        text-align: right;\n",
       "    }\n",
       "</style>\n",
       "<table border=\"1\" class=\"dataframe\">\n",
       "  <thead>\n",
       "    <tr style=\"text-align: right;\">\n",
       "      <th></th>\n",
       "      <th>age</th>\n",
       "      <th>anaemia</th>\n",
       "      <th>creatinine_phosphokinase</th>\n",
       "      <th>diabetes</th>\n",
       "      <th>ejection_fraction</th>\n",
       "      <th>high_blood_pressure</th>\n",
       "      <th>platelets</th>\n",
       "      <th>serum_creatinine</th>\n",
       "      <th>serum_sodium</th>\n",
       "      <th>sex</th>\n",
       "      <th>smoking</th>\n",
       "      <th>time</th>\n",
       "    </tr>\n",
       "  </thead>\n",
       "  <tbody>\n",
       "    <tr>\n",
       "      <th>0</th>\n",
       "      <td>75.0</td>\n",
       "      <td>0</td>\n",
       "      <td>582</td>\n",
       "      <td>0</td>\n",
       "      <td>20</td>\n",
       "      <td>1</td>\n",
       "      <td>265000.00</td>\n",
       "      <td>1.9</td>\n",
       "      <td>130</td>\n",
       "      <td>1</td>\n",
       "      <td>0</td>\n",
       "      <td>4</td>\n",
       "    </tr>\n",
       "    <tr>\n",
       "      <th>1</th>\n",
       "      <td>55.0</td>\n",
       "      <td>0</td>\n",
       "      <td>7861</td>\n",
       "      <td>0</td>\n",
       "      <td>38</td>\n",
       "      <td>0</td>\n",
       "      <td>263358.03</td>\n",
       "      <td>1.1</td>\n",
       "      <td>136</td>\n",
       "      <td>1</td>\n",
       "      <td>0</td>\n",
       "      <td>6</td>\n",
       "    </tr>\n",
       "    <tr>\n",
       "      <th>2</th>\n",
       "      <td>65.0</td>\n",
       "      <td>0</td>\n",
       "      <td>146</td>\n",
       "      <td>0</td>\n",
       "      <td>20</td>\n",
       "      <td>0</td>\n",
       "      <td>162000.00</td>\n",
       "      <td>1.3</td>\n",
       "      <td>129</td>\n",
       "      <td>1</td>\n",
       "      <td>1</td>\n",
       "      <td>7</td>\n",
       "    </tr>\n",
       "    <tr>\n",
       "      <th>3</th>\n",
       "      <td>50.0</td>\n",
       "      <td>1</td>\n",
       "      <td>111</td>\n",
       "      <td>0</td>\n",
       "      <td>20</td>\n",
       "      <td>0</td>\n",
       "      <td>210000.00</td>\n",
       "      <td>1.9</td>\n",
       "      <td>137</td>\n",
       "      <td>1</td>\n",
       "      <td>0</td>\n",
       "      <td>7</td>\n",
       "    </tr>\n",
       "    <tr>\n",
       "      <th>4</th>\n",
       "      <td>65.0</td>\n",
       "      <td>1</td>\n",
       "      <td>160</td>\n",
       "      <td>1</td>\n",
       "      <td>20</td>\n",
       "      <td>0</td>\n",
       "      <td>327000.00</td>\n",
       "      <td>2.7</td>\n",
       "      <td>116</td>\n",
       "      <td>0</td>\n",
       "      <td>0</td>\n",
       "      <td>8</td>\n",
       "    </tr>\n",
       "  </tbody>\n",
       "</table>\n",
       "</div>"
      ],
      "text/plain": [
       "    age  anaemia  creatinine_phosphokinase  diabetes  ejection_fraction  \\\n",
       "0  75.0        0                       582         0                 20   \n",
       "1  55.0        0                      7861         0                 38   \n",
       "2  65.0        0                       146         0                 20   \n",
       "3  50.0        1                       111         0                 20   \n",
       "4  65.0        1                       160         1                 20   \n",
       "\n",
       "   high_blood_pressure  platelets  serum_creatinine  serum_sodium  sex  \\\n",
       "0                    1  265000.00               1.9           130    1   \n",
       "1                    0  263358.03               1.1           136    1   \n",
       "2                    0  162000.00               1.3           129    1   \n",
       "3                    0  210000.00               1.9           137    1   \n",
       "4                    0  327000.00               2.7           116    0   \n",
       "\n",
       "   smoking  time  \n",
       "0        0     4  \n",
       "1        0     6  \n",
       "2        1     7  \n",
       "3        0     7  \n",
       "4        0     8  "
      ]
     },
     "execution_count": 176,
     "metadata": {},
     "output_type": "execute_result"
    }
   ],
   "source": [
    "x_ros.head()"
   ]
  },
  {
   "cell_type": "code",
   "execution_count": 177,
   "id": "fa789e90",
   "metadata": {},
   "outputs": [
    {
     "data": {
      "text/plain": [
       "(406,)"
      ]
     },
     "execution_count": 177,
     "metadata": {},
     "output_type": "execute_result"
    }
   ],
   "source": [
    "y_ros.shape"
   ]
  },
  {
   "cell_type": "markdown",
   "id": "f84b1d3e",
   "metadata": {},
   "source": [
    "Repeat the code starting from split the dataset into training and test sets\n",
    "Then retrain all the previous models and compare the results"
   ]
  },
  {
   "cell_type": "code",
   "execution_count": 178,
   "id": "9e05519d",
   "metadata": {},
   "outputs": [],
   "source": [
    "# Split the data into training and testing sets\n",
    "X_train_ros, X_test_ros, y_train_ros, y_test_ros = train_test_split(X, y, test_size=0.33, random_state=42)"
   ]
  },
  {
   "cell_type": "markdown",
   "id": "22ece5c2",
   "metadata": {},
   "source": [
    "### IV). Feature Selection"
   ]
  },
  {
   "cell_type": "markdown",
   "id": "3d5aee8f",
   "metadata": {},
   "source": [
    "#### Using Mann-Whitney test & Chi-Square test"
   ]
  },
  {
   "cell_type": "code",
   "execution_count": 179,
   "id": "180aa5da",
   "metadata": {},
   "outputs": [],
   "source": [
    "# Using Mann-Whitney test for numerical features & Chi-Square test for categorical features\n",
    "def features_test(data_df):\n",
    "    try:\n",
    "        p_values = {}\n",
    "        # Split the data into two groups based on the target class\n",
    "        survived = data_df[data_df.DEATH_EVENT == 0]\n",
    "        dead = data_df[data_df.DEATH_EVENT == 1]\n",
    "        numerical = ['age', 'creatinine_phosphokinase', 'ejection_fraction', 'platelets', 'serum_sodium',\n",
    "                              'time',\n",
    "                              'serum_creatinine']\n",
    "        categorical = ['anaemia', 'diabetes', 'high_blood_pressure', 'sex', 'smoking']\n",
    "\n",
    "        for column in numerical:\n",
    "                stat, p_value = mannwhitneyu(survived[column], dead[column])\n",
    "                p_values[column] = p_value\n",
    "        for column in categorical:\n",
    "                contingency_table = pd.crosstab(data_df[column], data_df['DEATH_EVENT'])\n",
    "                chi2, p, dof, expected = chi2_contingency(contingency_table)\n",
    "                p_values[column] = p_value\n",
    "        sorted_p_values = dict(sorted(p_values.items(), key=lambda item: item[1]))\n",
    "        return sorted_p_values\n",
    "    except Exception as e:\n",
    "        print(f\"An error {e} has been raised\")"
   ]
  },
  {
   "cell_type": "code",
   "execution_count": 180,
   "id": "16a1d455",
   "metadata": {},
   "outputs": [
    {
     "data": {
      "text/plain": [
       "{'time': 6.85219665413428e-21,\n",
       " 'serum_creatinine': 1.5809979011834038e-10,\n",
       " 'anaemia': 1.5809979011834038e-10,\n",
       " 'diabetes': 1.5809979011834038e-10,\n",
       " 'high_blood_pressure': 1.5809979011834038e-10,\n",
       " 'sex': 1.5809979011834038e-10,\n",
       " 'smoking': 1.5809979011834038e-10,\n",
       " 'ejection_fraction': 7.368249168477738e-07,\n",
       " 'age': 0.0001667518011391951,\n",
       " 'serum_sodium': 0.00029275574637774727,\n",
       " 'platelets': 0.4255585098046608,\n",
       " 'creatinine_phosphokinase': 0.6840400261440358}"
      ]
     },
     "execution_count": 180,
     "metadata": {},
     "output_type": "execute_result"
    }
   ],
   "source": [
    "features_test(data_df)"
   ]
  },
  {
   "cell_type": "markdown",
   "id": "ab367028",
   "metadata": {},
   "source": [
    "### feature importance graph (from Random Forest Classifier in III above)"
   ]
  },
  {
   "cell_type": "code",
   "execution_count": 181,
   "id": "10b29adf",
   "metadata": {},
   "outputs": [],
   "source": [
    "# feature importance graph (from Random Forest Classifier in III above)\n",
    "def plot_features_importance_graph(data_df):\n",
    "    try:\n",
    "        # Create a feature importance graph\n",
    "        # Create Random Forest Classifier and fit the model\n",
    "        X = data_df.drop(['DEATH_EVENT'], axis=1)\n",
    "        y = data_df['DEATH_EVENT']\n",
    "        clf = RandomForestClassifier(random_state=0)\n",
    "        clf.fit(X, y)\n",
    "        importance = clf.feature_importances_\n",
    "        feature_importance = dict(zip(data_df.drop(['DEATH_EVENT'], axis=1).columns, importance))\n",
    "        feature_importance = {k: v for k, v in\n",
    "                              sorted(feature_importance.items(), key=lambda item: item[1], reverse=True)}\n",
    "        plt.bar(feature_importance.keys(), feature_importance.values())\n",
    "        plt.xlabel('Features')\n",
    "        plt.ylabel('Importance')\n",
    "        plt.xticks(rotation=90)\n",
    "        plt.show()\n",
    "        sorted_feature_importance = dict(sorted(feature_importance.items(), key=lambda item: item[1], reverse=True))\n",
    "        return sorted_feature_importance\n",
    "\n",
    "    except Exception as e:\n",
    "        print(f\"An error {e} has been raised\")"
   ]
  },
  {
   "cell_type": "code",
   "execution_count": 182,
   "id": "f42b0bda",
   "metadata": {},
   "outputs": [
    {
     "data": {
      "image/png": "[encoded data removed]",
      "text/plain": [
       "<Figure size 432x288 with 1 Axes>"
      ]
     },
     "metadata": {
      "needs_background": "light"
     },
     "output_type": "display_data"
    }
   ],
   "source": [
    "sorted_feature_importance = plot_features_importance_graph(data_df)"
   ]
  },
  {
   "cell_type": "code",
   "execution_count": 183,
   "id": "01167136",
   "metadata": {},
   "outputs": [
    {
     "data": {
      "text/html": [
       "<div>\n",
       "<style scoped>\n",
       "    .dataframe tbody tr th:only-of-type {\n",
       "        vertical-align: middle;\n",
       "    }\n",
       "\n",
       "    .dataframe tbody tr th {\n",
       "        vertical-align: top;\n",
       "    }\n",
       "\n",
       "    .dataframe thead th {\n",
       "        text-align: right;\n",
       "    }\n",
       "</style>\n",
       "<table border=\"1\" class=\"dataframe\">\n",
       "  <thead>\n",
       "    <tr style=\"text-align: right;\">\n",
       "      <th></th>\n",
       "      <th>time</th>\n",
       "      <th>serum_creatinine</th>\n",
       "      <th>ejection_fraction</th>\n",
       "      <th>age</th>\n",
       "      <th>sex</th>\n",
       "      <th>serum_sodium</th>\n",
       "      <th>high_blood_pressure</th>\n",
       "      <th>DEATH_EVENT</th>\n",
       "    </tr>\n",
       "  </thead>\n",
       "  <tbody>\n",
       "    <tr>\n",
       "      <th>0</th>\n",
       "      <td>4</td>\n",
       "      <td>1.9</td>\n",
       "      <td>20</td>\n",
       "      <td>75.0</td>\n",
       "      <td>1</td>\n",
       "      <td>130</td>\n",
       "      <td>1</td>\n",
       "      <td>1</td>\n",
       "    </tr>\n",
       "    <tr>\n",
       "      <th>1</th>\n",
       "      <td>6</td>\n",
       "      <td>1.1</td>\n",
       "      <td>38</td>\n",
       "      <td>55.0</td>\n",
       "      <td>1</td>\n",
       "      <td>136</td>\n",
       "      <td>0</td>\n",
       "      <td>1</td>\n",
       "    </tr>\n",
       "    <tr>\n",
       "      <th>2</th>\n",
       "      <td>7</td>\n",
       "      <td>1.3</td>\n",
       "      <td>20</td>\n",
       "      <td>65.0</td>\n",
       "      <td>1</td>\n",
       "      <td>129</td>\n",
       "      <td>0</td>\n",
       "      <td>1</td>\n",
       "    </tr>\n",
       "    <tr>\n",
       "      <th>3</th>\n",
       "      <td>7</td>\n",
       "      <td>1.9</td>\n",
       "      <td>20</td>\n",
       "      <td>50.0</td>\n",
       "      <td>1</td>\n",
       "      <td>137</td>\n",
       "      <td>0</td>\n",
       "      <td>1</td>\n",
       "    </tr>\n",
       "    <tr>\n",
       "      <th>4</th>\n",
       "      <td>8</td>\n",
       "      <td>2.7</td>\n",
       "      <td>20</td>\n",
       "      <td>65.0</td>\n",
       "      <td>0</td>\n",
       "      <td>116</td>\n",
       "      <td>0</td>\n",
       "      <td>1</td>\n",
       "    </tr>\n",
       "  </tbody>\n",
       "</table>\n",
       "</div>"
      ],
      "text/plain": [
       "   time  serum_creatinine  ejection_fraction   age  sex  serum_sodium  \\\n",
       "0     4               1.9                 20  75.0    1           130   \n",
       "1     6               1.1                 38  55.0    1           136   \n",
       "2     7               1.3                 20  65.0    1           129   \n",
       "3     7               1.9                 20  50.0    1           137   \n",
       "4     8               2.7                 20  65.0    0           116   \n",
       "\n",
       "   high_blood_pressure  DEATH_EVENT  \n",
       "0                    1            1  \n",
       "1                    0            1  \n",
       "2                    0            1  \n",
       "3                    0            1  \n",
       "4                    0            1  "
      ]
     },
     "execution_count": 183,
     "metadata": {},
     "output_type": "execute_result"
    }
   ],
   "source": [
    "selected_data_df = data_df[['time', 'serum_creatinine', 'ejection_fraction', 'age', 'sex', 'serum_sodium','high_blood_pressure', 'DEATH_EVENT']]\n",
    "selected_data_df.head()"
   ]
  },
  {
   "cell_type": "code",
   "execution_count": 184,
   "id": "28a7f7d1",
   "metadata": {},
   "outputs": [
    {
     "data": {
      "text/plain": [
       "(299, 8)"
      ]
     },
     "execution_count": 184,
     "metadata": {},
     "output_type": "execute_result"
    }
   ],
   "source": [
    "selected_data_df.shape"
   ]
  },
  {
   "cell_type": "markdown",
   "id": "7037d935",
   "metadata": {},
   "source": [
    "### V). Classification III"
   ]
  },
  {
   "cell_type": "markdown",
   "id": "a387e861",
   "metadata": {},
   "source": [
    "##### Split the dataset on training and testing sets."
   ]
  },
  {
   "cell_type": "code",
   "execution_count": 185,
   "id": "c99bbd1f",
   "metadata": {},
   "outputs": [],
   "source": [
    "# Split the data into features and target\n",
    "X_selected = selected_data_df.drop([\"DEATH_EVENT\"], axis=1)\n",
    "y_selected = selected_data_df[\"DEATH_EVENT\"]"
   ]
  },
  {
   "cell_type": "code",
   "execution_count": 186,
   "id": "ab4eb89e",
   "metadata": {},
   "outputs": [],
   "source": [
    "X_train_selected, X_test_selected, y_train_selected, y_test_selected = train_test_split(X_selected, y_selected, test_size=0.33, random_state=42)"
   ]
  },
  {
   "cell_type": "markdown",
   "id": "fcfee4de",
   "metadata": {},
   "source": [
    "#### Naïve Bayes"
   ]
  },
  {
   "cell_type": "code",
   "execution_count": 187,
   "id": "45f9e057",
   "metadata": {},
   "outputs": [
    {
     "name": "stdout",
     "output_type": "stream",
     "text": [
      "Fit the Naive Bayes model\n"
     ]
    }
   ],
   "source": [
    "nb_model_selected, nb_predict_selected = fit_naive_bayes_model(X_train_selected, X_test_selected, y_train_selected)"
   ]
  },
  {
   "cell_type": "code",
   "execution_count": 188,
   "id": "87775d58",
   "metadata": {},
   "outputs": [
    {
     "data": {
      "text/plain": [
       "array([0, 0, 0, 1, 0, 0, 0, 0, 1, 0], dtype=int64)"
      ]
     },
     "execution_count": 188,
     "metadata": {},
     "output_type": "execute_result"
    }
   ],
   "source": [
    "nb_predict_selected[:10]#Let's see the first 10 predictions"
   ]
  },
  {
   "cell_type": "markdown",
   "id": "8def2523",
   "metadata": {},
   "source": [
    "* Model Evaluation"
   ]
  },
  {
   "cell_type": "code",
   "execution_count": 189,
   "id": "05e59dd9",
   "metadata": {},
   "outputs": [
    {
     "name": "stdout",
     "output_type": "stream",
     "text": [
      "Evaluation Metrics:\n",
      "Accuracy: 0.7272727272727273\n",
      "Recall: 0.4523809523809524\n",
      "F1 Score: 0.5846153846153845\n",
      "Precision: 0.8260869565217391\n",
      "\n",
      "Confusion Matrix:\n",
      " TP,  FP, FN, TN\n",
      "[53  4 23 19]\n"
     ]
    },
    {
     "data": {
      "image/png": "[encoded data removed]",
      "text/plain": [
       "<Figure size 432x288 with 2 Axes>"
      ]
     },
     "metadata": {
      "needs_background": "light"
     },
     "output_type": "display_data"
    }
   ],
   "source": [
    "evaluation(y_test_selected, nb_predict_selected)"
   ]
  },
  {
   "cell_type": "markdown",
   "id": "1d3ea330",
   "metadata": {},
   "source": [
    "#### Logistic Regression model"
   ]
  },
  {
   "cell_type": "code",
   "execution_count": 191,
   "id": "47dbaa88",
   "metadata": {},
   "outputs": [
    {
     "name": "stdout",
     "output_type": "stream",
     "text": [
      "Fit the Logistic Regression model\n"
     ]
    }
   ],
   "source": [
    "log_reg_model_selected, log_reg_predict_selected = fit_logistic_regression_model(X_train_selected, X_test_selected, y_train_selected)"
   ]
  },
  {
   "cell_type": "code",
   "execution_count": 192,
   "id": "77dff1af",
   "metadata": {},
   "outputs": [
    {
     "data": {
      "text/plain": [
       "array([0, 0, 0, 1, 0, 0, 1, 0, 1, 0], dtype=int64)"
      ]
     },
     "execution_count": 192,
     "metadata": {},
     "output_type": "execute_result"
    }
   ],
   "source": [
    "log_reg_predict_selected[:10]#Let's see the first 10 predictions"
   ]
  },
  {
   "cell_type": "markdown",
   "id": "91417e81",
   "metadata": {},
   "source": [
    "* Model Evaluation"
   ]
  },
  {
   "cell_type": "code",
   "execution_count": 194,
   "id": "df0d8b81",
   "metadata": {},
   "outputs": [
    {
     "name": "stdout",
     "output_type": "stream",
     "text": [
      "Evaluation Metrics:\n",
      "Accuracy: 0.797979797979798\n",
      "Recall: 0.7142857142857143\n",
      "F1 Score: 0.7500000000000001\n",
      "Precision: 0.7894736842105263\n",
      "\n",
      "Confusion Matrix:\n",
      " TP,  FP, FN, TN\n",
      "[49  8 12 30]\n"
     ]
    },
    {
     "data": {
      "image/png": "[encoded data removed]",
      "text/plain": [
       "<Figure size 432x288 with 2 Axes>"
      ]
     },
     "metadata": {
      "needs_background": "light"
     },
     "output_type": "display_data"
    }
   ],
   "source": [
    "evaluation(y_test_selected, log_reg_predict_selected)"
   ]
  },
  {
   "cell_type": "markdown",
   "id": "af74b306",
   "metadata": {},
   "source": [
    "#### Support Vector Machine model"
   ]
  },
  {
   "cell_type": "code",
   "execution_count": 195,
   "id": "467e964d",
   "metadata": {},
   "outputs": [],
   "source": [
    "svc_model_selected, svc_predict_selected = fit_svc_model(X_train_selected, X_test_selected, y_train_selected)"
   ]
  },
  {
   "cell_type": "code",
   "execution_count": 196,
   "id": "a60ccd50",
   "metadata": {},
   "outputs": [
    {
     "data": {
      "text/plain": [
       "array([0, 0, 0, 0, 0, 0, 0, 0, 0, 0], dtype=int64)"
      ]
     },
     "execution_count": 196,
     "metadata": {},
     "output_type": "execute_result"
    }
   ],
   "source": [
    "svc_predict_selected[:10]#Let's see the first 10 predictions"
   ]
  },
  {
   "cell_type": "markdown",
   "id": "eb69456a",
   "metadata": {},
   "source": [
    "* Model Evaluation"
   ]
  },
  {
   "cell_type": "code",
   "execution_count": 198,
   "id": "a9563770",
   "metadata": {},
   "outputs": [
    {
     "name": "stdout",
     "output_type": "stream",
     "text": [
      "Evaluation Metrics:\n",
      "Accuracy: 0.5757575757575758\n",
      "Recall: 0.0\n",
      "F1 Score: 0.0\n",
      "Precision: 0.0\n",
      "\n",
      "Confusion Matrix:\n",
      " TP,  FP, FN, TN\n",
      "[57  0 42  0]\n"
     ]
    },
    {
     "name": "stderr",
     "output_type": "stream",
     "text": [
      "c:\\users\\tota\\appdata\\local\\programs\\python\\python37\\lib\\site-packages\\sklearn\\metrics\\_classification.py:1318: UndefinedMetricWarning: Precision is ill-defined and being set to 0.0 due to no predicted samples. Use `zero_division` parameter to control this behavior.\n",
      "  _warn_prf(average, modifier, msg_start, len(result))\n"
     ]
    },
    {
     "data": {
      "image/png": "[encoded data removed]",
      "text/plain": [
       "<Figure size 432x288 with 2 Axes>"
      ]
     },
     "metadata": {
      "needs_background": "light"
     },
     "output_type": "display_data"
    }
   ],
   "source": [
    "evaluation(y_test_selected, svc_predict_selected)"
   ]
  },
  {
   "cell_type": "markdown",
   "id": "c5e16e76",
   "metadata": {},
   "source": [
    "#### Random Forest classifier model"
   ]
  },
  {
   "cell_type": "code",
   "execution_count": 199,
   "id": "255295cd",
   "metadata": {},
   "outputs": [
    {
     "name": "stdout",
     "output_type": "stream",
     "text": [
      "Fit the Random Forest classifier model\n"
     ]
    }
   ],
   "source": [
    "rfc_model_selected, rfc_predict_selected = random_forest_classifier_model(X_train_selected, X_test_selected, y_train_selected)"
   ]
  },
  {
   "cell_type": "code",
   "execution_count": 200,
   "id": "9147098e",
   "metadata": {},
   "outputs": [
    {
     "data": {
      "text/plain": [
       "array([0, 0, 0, 1, 0, 0, 0, 0, 1, 0], dtype=int64)"
      ]
     },
     "execution_count": 200,
     "metadata": {},
     "output_type": "execute_result"
    }
   ],
   "source": [
    "rfc_predict_selected[:10]#Let's see the first 10 predictions"
   ]
  },
  {
   "cell_type": "markdown",
   "id": "c5a911ed",
   "metadata": {},
   "source": [
    "* Model Evaluation"
   ]
  },
  {
   "cell_type": "code",
   "execution_count": 201,
   "id": "8fcceb6e",
   "metadata": {},
   "outputs": [
    {
     "name": "stdout",
     "output_type": "stream",
     "text": [
      "Evaluation Metrics:\n",
      "Accuracy: 0.7676767676767676\n",
      "Recall: 0.5476190476190477\n",
      "F1 Score: 0.6666666666666667\n",
      "Precision: 0.8518518518518519\n",
      "\n",
      "Confusion Matrix:\n",
      " TP,  FP, FN, TN\n",
      "[53  4 19 23]\n"
     ]
    },
    {
     "data": {
      "image/png": "[encoded data removed]",
      "text/plain": [
       "<Figure size 432x288 with 2 Axes>"
      ]
     },
     "metadata": {
      "needs_background": "light"
     },
     "output_type": "display_data"
    }
   ],
   "source": [
    "evaluation(y_test_selected, rfc_predict_selected)"
   ]
  },
  {
   "cell_type": "markdown",
   "id": "b46c260e",
   "metadata": {},
   "source": [
    "#### K-Nearest Neighbour model"
   ]
  },
  {
   "cell_type": "code",
   "execution_count": 202,
   "id": "39e81953",
   "metadata": {},
   "outputs": [
    {
     "name": "stdout",
     "output_type": "stream",
     "text": [
      "Fit the K-Nearest Neighbour model\n"
     ]
    }
   ],
   "source": [
    "knn_model_selected, knn_predict_selected = fit_knn_model(X_train_selected, X_test_selected, y_train_selected)"
   ]
  },
  {
   "cell_type": "code",
   "execution_count": 203,
   "id": "0a9243a0",
   "metadata": {},
   "outputs": [
    {
     "data": {
      "text/plain": [
       "array([0, 0, 0, 1, 0, 0, 0, 0, 1, 1], dtype=int64)"
      ]
     },
     "execution_count": 203,
     "metadata": {},
     "output_type": "execute_result"
    }
   ],
   "source": [
    "knn_predict_selected[:10]"
   ]
  },
  {
   "cell_type": "code",
   "execution_count": 204,
   "id": "c896fdb1",
   "metadata": {},
   "outputs": [
    {
     "name": "stdout",
     "output_type": "stream",
     "text": [
      "Evaluation Metrics:\n",
      "Accuracy: 0.7575757575757576\n",
      "Recall: 0.5476190476190477\n",
      "F1 Score: 0.6571428571428571\n",
      "Precision: 0.8214285714285714\n",
      "\n",
      "Confusion Matrix:\n",
      " TP,  FP, FN, TN\n",
      "[52  5 19 23]\n"
     ]
    },
    {
     "data": {
      "image/png": "[encoded data removed]",
      "text/plain": [
       "<Figure size 432x288 with 2 Axes>"
      ]
     },
     "metadata": {
      "needs_background": "light"
     },
     "output_type": "display_data"
    }
   ],
   "source": [
    "evaluation(y_test_selected, knn_predict_selected)"
   ]
  }
 ],
 "metadata": {
  "kernelspec": {
   "display_name": "Python 3 (ipykernel)",
   "language": "python",
   "name": "python3"
  },
  "language_info": {
   "codemirror_mode": {
    "name": "ipython",
    "version": 3
   },
   "file_extension": ".py",
   "mimetype": "text/x-python",
   "name": "python",
   "nbconvert_exporter": "python",
   "pygments_lexer": "ipython3",
   "version": "3.10.9"
  }
 },
 "nbformat": 4,
 "nbformat_minor": 5
}
